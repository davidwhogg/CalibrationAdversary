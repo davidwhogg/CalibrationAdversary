{
 "cells": [
  {
   "cell_type": "markdown",
   "id": "243e1daf-dc59-4e79-93ee-cb93ef5d9452",
   "metadata": {},
   "source": [
    "# CalibrationAdversary\n",
    "An attempt to make a concrete example to demonstrate the issues with which the author is obsessed.\n",
    "\n",
    "## Author\n",
    "- **David W. Hogg** (NYU)\n",
    "\n",
    "## To-do\n",
    "- Write the peak finder (for the LFC lines) and the CCF peak finder (for the spectrum).\n",
    "- Plot the velocity offset vs the PSF asymmetry.\n",
    "- Make a version of the CCF peak finder for the LSF lines.\n",
    "- Show that it improves the situation a lot?\n",
    "\n",
    "## Bugs\n",
    "- There should be a SNR setting and a noise level, maybe?\n",
    "- Should I get the LSF modes in exactly the same place? I think it's possible.\n",
    "- Binary mask construction is a hack. Binary mask *usage* is even more of a hack."
   ]
  },
  {
   "cell_type": "code",
   "execution_count": null,
   "id": "3779ab4f-f560-40ce-9ca2-ce17af3f5d64",
   "metadata": {},
   "outputs": [],
   "source": [
    "import numpy as np\n",
    "import jax.numpy as jnp\n",
    "from jax import vmap\n",
    "import jaxopt\n",
    "import pylab as plt"
   ]
  },
  {
   "cell_type": "code",
   "execution_count": null,
   "id": "061e1406-80cc-47f6-a900-c40d95c48e6f",
   "metadata": {},
   "outputs": [],
   "source": [
    "# todo: set JAX to work at high precision"
   ]
  },
  {
   "cell_type": "code",
   "execution_count": null,
   "id": "2bf5c78f-9547-4b62-84b1-4f71ab04cf9e",
   "metadata": {},
   "outputs": [],
   "source": [
    "# define functions that will make an asymmetric line-spread function\n",
    "\n",
    "def gaussian_1d(xs, mean, sigma):\n",
    "    return jnp.exp(-0.5 * (xs - mean) ** 2 / sigma ** 2) / jnp.sqrt(2. * jnp.pi * sigma ** 2)\n",
    "\n",
    "def linespread_function(xs, sigma, A2, A3):\n",
    "    assert A2 > 0\n",
    "    assert A3 > 0\n",
    "    norm = 1. / (1. + A2 + A3)\n",
    "    return norm * (gaussian_1d(xs, 0., sigma) +\n",
    "                   A2 * gaussian_1d(xs, sigma, 2. * sigma) +\n",
    "                   A3 * gaussian_1d(xs, -sigma, 2. * sigma))"
   ]
  },
  {
   "cell_type": "code",
   "execution_count": null,
   "id": "ccaac2b1-c329-40d2-bd2b-b3a487609419",
   "metadata": {},
   "outputs": [],
   "source": [
    "# create a list of LSF parameters that we will use for plotting\n",
    "# Every LSF has an associated \"asymmetry\" value.\n",
    "sigma = 1.5\n",
    "A2list = jnp.arange(0.1, 1.2, 0.3)\n",
    "A3list = 1.2 - A2list\n",
    "asymmetrylist = (A2list - A3list) / (A2list + A3list)\n",
    "labellist = [\"${:+6.3f}$\".format(a) for a in asymmetrylist]\n",
    "print(A2list, labellist)"
   ]
  },
  {
   "cell_type": "code",
   "execution_count": null,
   "id": "e90345e0-ed82-4f28-b95b-f2d8817384fd",
   "metadata": {},
   "outputs": [],
   "source": [
    "# show me some LSFs, labeled by asymmetry\n",
    "tiny = 0.001\n",
    "plotxs = jnp.arange(-10. + 0.5 * tiny, 10., tiny)\n",
    "for A2, A3, ll in zip(A2list, A3list, labellist):\n",
    "    plt.plot(plotxs, linespread_function(plotxs, sigma, A2, A3), label=ll)\n",
    "plt.legend()\n",
    "plt.xlabel(\"x offset\")\n",
    "plt.ylabel(\"(pixel-convolved) PSF value\")\n",
    "plt.title(\"Example PSFs with different asymmetries\")\n",
    "plt.savefig(\"psfs.png\")"
   ]
  },
  {
   "cell_type": "code",
   "execution_count": null,
   "id": "31f76242-d98f-43b5-9aa9-9c6b5706ce90",
   "metadata": {},
   "outputs": [],
   "source": [
    "# define functions that make a laser frequency comb spectrum\n",
    "\n",
    "lfc_linelist = jnp.arange(10., 1000., 25. * jnp.pi / 3.)\n",
    "\n",
    "def lfc_spectrum(xs, sigma, A2, A3):\n",
    "    def foo(x):\n",
    "        return linespread_function(xs - x, sigma, A2, A3)\n",
    "    return sum(map(foo, lfc_linelist))"
   ]
  },
  {
   "cell_type": "code",
   "execution_count": null,
   "id": "89fef202-c823-457b-a9c5-60f0199c2b2b",
   "metadata": {},
   "outputs": [],
   "source": [
    "# show me an LFC spectrum at one LSF\n",
    "tiny = 1.0\n",
    "lfc_xs = jnp.arange(0. + 0.5 * tiny, 1000., tiny)\n",
    "lfc_ys = lfc_spectrum(lfc_xs, sigma, A2, A3)\n",
    "plt.step(lfc_xs, lfc_ys)\n",
    "plt.xlim(200, 400)\n",
    "plt.axhline(0, alpha=0.25)\n",
    "plt.xlabel(\"x\")\n",
    "plt.ylabel(\"flux\")\n",
    "plt.title(\"Example LFC spectrum (detail)\")\n",
    "plt.savefig(\"lfc.png\")"
   ]
  },
  {
   "cell_type": "code",
   "execution_count": null,
   "id": "fec76516-1eac-4633-a78c-e6773b1c9963",
   "metadata": {},
   "outputs": [],
   "source": [
    "# define functions that will make me a fake stellar spectrum\n",
    "\n",
    "rng = np.random.default_rng(17)\n",
    "star_linelist = jnp.array(1000. * rng.uniform(size=1000))\n",
    "star_amplist = jnp.array(np.exp(rng.normal(size=1000) - 3.) ** 3)\n",
    "\n",
    "def star_spectrum(xs, sigma, A2, A3):\n",
    "    def foo(A, x):\n",
    "        return A * linespread_function(xs - x, sigma, A2, A3)\n",
    "    return jnp.exp(0. - sum(map(foo, star_amplist, star_linelist)))"
   ]
  },
  {
   "cell_type": "code",
   "execution_count": null,
   "id": "eb84626a-74d3-46a3-bad8-0a79ed43634e",
   "metadata": {},
   "outputs": [],
   "source": [
    "# show me a stellar spectrum at one LSF\n",
    "star_xs = 1.0 * lfc_xs\n",
    "star_ys = star_spectrum(star_xs, sigma, A2, A3)\n",
    "plt.step(star_xs, star_ys)\n",
    "# plt.xlim(200, 400)\n",
    "plt.axhline(1., alpha=0.25)\n",
    "plt.xlabel(\"x\")\n",
    "plt.ylabel(\"flux\")\n",
    "plt.title(\"Example stellar spectrum\")\n",
    "plt.savefig(\"star.png\")"
   ]
  },
  {
   "cell_type": "code",
   "execution_count": null,
   "id": "9f43562c-bbf2-4f15-ae10-c386c193ca8e",
   "metadata": {},
   "outputs": [],
   "source": [
    "# make a binary mask\n",
    "# This is a hack.\n",
    "idx = jnp.argsort(star_amplist)[-1:-16:-1]\n",
    "mask_linelist = star_linelist[idx]\n",
    "mask_amplist = star_amplist[idx]\n",
    "mask_halfwidthlist = jnp.zeros_like(mask_linelist) + sigma\n",
    "print(mask_linelist)"
   ]
  },
  {
   "cell_type": "code",
   "execution_count": null,
   "id": "df55f0a8-63a6-491b-87d9-242565156405",
   "metadata": {},
   "outputs": [],
   "source": [
    "# define functions that perform cross-correlation in the traditional EPRV way\n",
    "# Ish.\n",
    "\n",
    "def nn_interp(x, xp, fp):\n",
    "    \"\"\"\n",
    "    Nearest neighbor interpolation.\n",
    "\n",
    "    Parameters:\n",
    "        x: The x-coordinates where you want to interpolate.\n",
    "        xp: The x-coordinates of the known data points.\n",
    "        fp: The y-coordinates of the known data points.\n",
    "\n",
    "    Returns:\n",
    "        The interpolated y-values.\n",
    "\n",
    "    Author:\n",
    "        Google AI (ugh).\n",
    "    \"\"\"\n",
    "    indices = jnp.argmin(jnp.abs(xp[:, None] - x[None, :]), axis=0)\n",
    "    return fp[indices]\n",
    "\n",
    "def make_fine_mask_grid():\n",
    "    tiny = 0.1\n",
    "    ds = jnp.arange(-1. + tiny, 1., tiny)\n",
    "    xs = mask_linelist[:, None] + mask_halfwidthlist[:, None] * ds[None, :]\n",
    "    ys = 0. * xs + mask_amplist[:, None]\n",
    "    xs, ys = xs.flatten(), ys.flatten()\n",
    "    idx = jnp.argsort(xs)\n",
    "    return xs[idx], ys[idx]\n",
    "\n",
    "def binary_ccf_one(dx, data_xs, data_ys, mask_xs, mask_ys):\n",
    "    idys = nn_interp(mask_xs - dx, data_xs, data_ys)\n",
    "    return jnp.nansum(mask_ys * idys)\n",
    "\n",
    "binary_ccf = vmap(binary_ccf_one, in_axes=(0, None, None, None, None))\n",
    "\n",
    "def fit_1d_gaussian(xs, ys):\n",
    "    def objective(pars):\n",
    "        A0, A1, mu, sigma = pars\n",
    "        return jnp.sum((ys - A0 - A1 * gaussian_1d(xs, mu, sigma)) ** 2)\n",
    "    pars0 = jnp.array((jnp.median(ys), ys[len(ys) // 2] - jnp.median(ys), jnp.mean(xs), 1.0))\n",
    "    solver = jaxopt.LBFGS(fun=objective)\n",
    "    pars, state = solver.run(pars0)\n",
    "    return pars\n",
    "\n",
    "def fit_binary_ccf(dxs, bccfs):\n",
    "    return fit_1d_gaussian(dxs, bccfs)"
   ]
  },
  {
   "cell_type": "code",
   "execution_count": null,
   "id": "5e1faed9-2039-4ef8-96ea-9ca0d80708b4",
   "metadata": {},
   "outputs": [],
   "source": [
    "# show me the binary mask on an example, plus best-fit dx\n",
    "dxs = jnp.arange(-3.0, 3.1, 0.5)\n",
    "mask_xs, mask_ys = make_fine_mask_grid()\n",
    "bccfs = binary_ccf(dxs, star_xs, star_ys, mask_xs, mask_ys)\n",
    "A0, A1, mu, sigma = fit_binary_ccf(dxs, bccfs)\n",
    "plt.plot(dxs, bccfs)\n",
    "plt.plot(dxs, A0 + A1 * gaussian_1d(dxs, mu, sigma))\n",
    "plt.axvline(mu)\n",
    "plt.xlabel(\"Doppler shift delta-x\")\n",
    "plt.ylabel(\"CCF value\")\n",
    "plt.title(\"Example of a Gaussian fit to a binary-mask CCF\")\n",
    "plt.savefig(\"ccf.png\")"
   ]
  },
  {
   "cell_type": "code",
   "execution_count": null,
   "id": "a27d1096-92fc-4b53-9a8a-391bed8f3396",
   "metadata": {},
   "outputs": [],
   "source": [
    "# todo: define functions to centroid and combine LFC lines\n",
    "\n",
    "def fit_one_lfc_line(xs, ys):\n",
    "    return fit_1d_gaussian(xs, ys)\n",
    "\n",
    "def fit_lfc_lines(xs, ys):\n",
    "    \"\"\"\n",
    "    ## bugs:\n",
    "    - Doesn't deal with edge cases (idx close to or beyond the edge).\n",
    "    \"\"\"\n",
    "    idx = jnp.argmin(jnp.abs(xs[None, :] - lfc_linelist[:, None]), axis=1)\n",
    "    idxs = idx[:, None] + jnp.arange(-2, 3)[None, :]\n",
    "    return vmap(fit_one_lfc_line)(xs[idxs], ys[idxs])[:, 2] - lfc_linelist"
   ]
  },
  {
   "cell_type": "code",
   "execution_count": null,
   "id": "ee2a96da-c128-4405-9549-043bc9175792",
   "metadata": {},
   "outputs": [],
   "source": [
    "# show me some test of the LFC offsets\n",
    "measured_lfc_dxs = fit_lfc_lines(lfc_xs, lfc_ys)\n",
    "print(measured_lfc_dxs)\n",
    "print(jnp.mean(measured_lfc_dxs))"
   ]
  },
  {
   "cell_type": "code",
   "execution_count": null,
   "id": "bee791da-3d18-4120-9976-4728b4188e06",
   "metadata": {},
   "outputs": [],
   "source": [
    "# do a loop over LSFs, measuring everything we want\n",
    "# WARNING: THERE IS A MEDIAN HERE WHICH IS PROBABLY WRONG.\n",
    "A2list = jnp.arange(0.1, 1.05, 0.1)\n",
    "A3list = 1.1 - A2list\n",
    "\n",
    "lfc_xs = jnp.arange(0. + 0.5 * tiny, 1000., tiny)\n",
    "star_xs = 1.0 * lfc_xs\n",
    "mask_xs, mask_ys = make_fine_mask_grid()\n",
    "dxs = jnp.arange(-3.0, 3.1, 0.5)\n",
    "\n",
    "lfc_shiftlist = np.array(0. * A2list)\n",
    "star_shiftlist = np.array(0. * A2list)\n",
    "for i, (A2, A3) in enumerate(zip(A2list, A3list)):\n",
    "    print(i, A2, A3)\n",
    "    lfc_ys = lfc_spectrum(lfc_xs, sigma, A2, A3)\n",
    "    star_ys = star_spectrum(star_xs, sigma, A2, A3)\n",
    "    lfc_shiftlist[i] = jnp.median(fit_lfc_lines(lfc_xs, lfc_ys))\n",
    "    star_shiftlist[i] = fit_binary_ccf(dxs, binary_ccf(dxs, star_xs, star_ys, mask_xs, mask_ys))[2]\n",
    "print(lfc_shiftlist)\n",
    "print(star_shiftlist)"
   ]
  },
  {
   "cell_type": "code",
   "execution_count": null,
   "id": "81e67852-52fb-4f20-9d7d-9c28d742ff64",
   "metadata": {},
   "outputs": [],
   "source": [
    "# show that there is a bias!\n",
    "asymlist = (A2list - A3list) / (A2list + A3list)\n",
    "plt.plot(asymlist, lfc_shiftlist, \"o\", label=\"LFC\")\n",
    "plt.plot(asymlist, star_shiftlist, \"o\", label=\"star\")\n",
    "plt.legend()\n",
    "plt.xlabel(\"PSF asymmetry\")\n",
    "plt.ylabel(\"apparent Doppler shift\")\n",
    "plt.title(\"Dependence of apparent Doppler shifts on PSF asymmetry\")\n",
    "plt.savefig(\"apparent_shifts.png\")"
   ]
  },
  {
   "cell_type": "code",
   "execution_count": null,
   "id": "73e7fadb-ea89-464d-9148-101273f2907f",
   "metadata": {},
   "outputs": [],
   "source": []
  }
 ],
 "metadata": {
  "kernelspec": {
   "display_name": "Python 3 (ipykernel)",
   "language": "python",
   "name": "python3"
  },
  "language_info": {
   "codemirror_mode": {
    "name": "ipython",
    "version": 3
   },
   "file_extension": ".py",
   "mimetype": "text/x-python",
   "name": "python",
   "nbconvert_exporter": "python",
   "pygments_lexer": "ipython3",
   "version": "3.9.6"
  }
 },
 "nbformat": 4,
 "nbformat_minor": 5
}
